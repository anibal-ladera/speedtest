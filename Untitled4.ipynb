{
  "nbformat": 4,
  "nbformat_minor": 0,
  "metadata": {
    "colab": {
      "provenance": [],
      "authorship_tag": "ABX9TyONu59T/6ANXxyNwuJrBpji",
      "include_colab_link": true
    },
    "kernelspec": {
      "name": "python3",
      "display_name": "Python 3"
    },
    "language_info": {
      "name": "python"
    }
  },
  "cells": [
    {
      "cell_type": "markdown",
      "metadata": {
        "id": "view-in-github",
        "colab_type": "text"
      },
      "source": [
        "<a href=\"https://colab.research.google.com/github/anibal-ladera/speedtest/blob/main/Untitled4.ipynb\" target=\"_parent\"><img src=\"https://colab.research.google.com/assets/colab-badge.svg\" alt=\"Open In Colab\"/></a>"
      ]
    },
    {
      "cell_type": "code",
      "execution_count": null,
      "metadata": {
        "id": "81y95GNXQLHO"
      },
      "outputs": [],
      "source": [
        "# Databricks notebook source\n",
        "import pandas as pd\n",
        "from google.cloud import bigquery\n",
        "import os\n",
        "\n",
        "os.environ['GOOGLE_APPLICATION_CREDENTIALS'] = './credentials.json'\n",
        "client = bigquery.Client()\n",
        "\n",
        "# Define your BigQuery dataset and table names\n",
        "dataset_id = 'schema'\n",
        "table_name = 'speedtest_t1'\n",
        "\n",
        "# Read the table\n",
        "df = (spark.sql(f'SELECT * FROM speedtest_t1 limit 100')).toPandas()\n",
        "\n",
        "table_ref = client.dataset(dataset_id).table(table_name)\n",
        "job_config = bigquery.LoadJobConfig(write_disposition=bigquery.WriteDisposition.WRITE_TRUNCATE)\n",
        "client.load_table_from_dataframe(df, table_ref, job_config=job_config).result()\n",
        "\n",
        "sql = 'SELECT * FROM dataset_futurum.table_futurum LIMIT 10'\n",
        "\n",
        "# Define your SQL query\n",
        "query = f\"SELECT * FROM `{dataset_id}.{table_name}`\"\n",
        "\n",
        "# Use the BigQuery client to execute the query and get the results as a DataFrame\n",
        "quey_result = client.query(query).to_dataframe()\n",
        "display(quey_result)"
      ]
    },
    {
      "cell_type": "code",
      "source": [],
      "metadata": {
        "id": "DaaXcx-hTG0S"
      },
      "execution_count": null,
      "outputs": []
    }
  ]
}