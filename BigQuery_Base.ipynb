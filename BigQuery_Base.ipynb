{
 "cells": [
  {
   "cell_type": "markdown",
   "metadata": {
    "application/vnd.databricks.v1+cell": {
     "cellMetadata": {},
     "inputWidgets": {},
     "nuid": "fca1e6cb-8beb-4866-82a0-e2821f933059",
     "showTitle": false,
     "title": ""
    },
    "colab_type": "text",
    "id": "view-in-github"
   },
   "source": [
    "<a href=\"https://colab.research.google.com/github/anibal-ladera/speedtest/blob/main/BigQuery_Base.ipynb\" target=\"_parent\"><img src=\"https://colab.research.google.com/assets/colab-badge.svg\" alt=\"Open In Colab\"/></a>"
   ]
  },
  {
   "cell_type": "code",
   "execution_count": 0,
   "metadata": {
    "application/vnd.databricks.v1+cell": {
     "cellMetadata": {},
     "inputWidgets": {},
     "nuid": "0d8d6116-6fb9-4f65-81a1-5ce757f6ede0",
     "showTitle": false,
     "title": ""
    },
    "id": "w6MmeBUBJ-9E"
   },
   "outputs": [],
   "source": [
    "# @title Setup\n",
    "from google.colab import auth\n",
    "from google.cloud import bigquery\n",
    "from google.colab import data_table\n",
    "\n",
    "project = 'vm-etl-321800' # Project ID inserted based on the query results selected to explore\n",
    "location = 'US' # Location inserted based on the query results selected to explore\n",
    "client = bigquery.Client(project=project, location=location)\n",
    "data_table.enable_dataframe_formatter()\n",
    "auth.authenticate_user()"
   ]
  },
  {
   "cell_type": "code",
   "execution_count": 0,
   "metadata": {
    "application/vnd.databricks.v1+cell": {
     "cellMetadata": {},
     "inputWidgets": {},
     "nuid": "c9e7c873-f91a-449e-80da-845d1a457568",
     "showTitle": false,
     "title": ""
    },
    "colab": {
     "base_uri": "https://localhost:8080/",
     "height": 1083
    },
    "id": "bIw82qhuHWy0",
    "outputId": "48b8de49-b8c0-4d4d-ae09-ade3df254044"
   },
   "outputs": [],
   "source": [
    "# Running this code will read results from your previous job\n",
    "\n",
    "#job = client.get_job('bquxjob_2159699c_18b10ff4225') # Job ID inserted based on the query results selected to explore\n",
    "#print(job.query)\n",
    "query = 'SELECT * FROM `vm-etl-321800.schema.speedtest_t1` LIMIT 1000'\n",
    "query_job = client.query(query=query)\n",
    "results = query_job.result().to_dataframe()\n",
    "display(results)\n",
    "display(results)"
   ]
  }
 ],
 "metadata": {
  "application/vnd.databricks.v1+notebook": {
   "dashboards": [],
   "language": "python",
   "notebookMetadata": {
    "pythonIndentUnit": 2
   },
   "notebookName": "BigQuery_Base",
   "widgets": {}
  },
  "colab": {
   "cell_execution_strategy": "setup",
   "include_colab_link": true,
   "provenance": []
  },
  "kernelspec": {
   "display_name": "Python 3",
   "name": "python3"
  },
  "language_info": {
   "name": "python"
  }
 },
 "nbformat": 4,
 "nbformat_minor": 0
}
